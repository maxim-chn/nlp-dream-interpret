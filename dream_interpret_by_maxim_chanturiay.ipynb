{
 "cells": [
  {
   "cell_type": "markdown",
   "id": "4be15e8a-5dd9-4ae3-a49d-67f0c713e95e",
   "metadata": {},
   "source": [
    "# Imports & Global Arguments"
   ]
  },
  {
   "cell_type": "code",
   "execution_count": 1,
   "id": "6e5653b5-1ebd-46c4-962a-6f2047f01688",
   "metadata": {},
   "outputs": [],
   "source": [
    "import os\n",
    "import json\n",
    "import time"
   ]
  },
  {
   "cell_type": "code",
   "execution_count": 2,
   "id": "495a4824-1614-41f6-b747-059dc4c1b3d9",
   "metadata": {},
   "outputs": [
    {
     "name": "stderr",
     "output_type": "stream",
     "text": [
      "[nltk_data] Downloading package punkt to /home/maxim/nltk_data...\n",
      "[nltk_data]   Package punkt is already up-to-date!\n",
      "[nltk_data] Downloading package punkt_tab to /home/maxim/nltk_data...\n",
      "[nltk_data]   Package punkt_tab is already up-to-date!\n"
     ]
    },
    {
     "data": {
      "text/plain": [
       "True"
      ]
     },
     "execution_count": 2,
     "metadata": {},
     "output_type": "execute_result"
    }
   ],
   "source": [
    "import pandas as pd\n",
    "\n",
    "import nltk\n",
    "from nltk.tokenize import word_tokenize\n",
    "from nltk.translate.bleu_score import sentence_bleu, SmoothingFunction\n",
    "\n",
    "from rouge_score import rouge_scorer\n",
    "from bert_score import score\n",
    "\n",
    "from transformers import AutoModelForCausalLM, AutoTokenizer, T5Tokenizer, T5ForConditionalGeneration, Trainer, TrainingArguments\n",
    "\n",
    "import torch\n",
    "import torch.nn.functional as F\n",
    "\n",
    "import matplotlib.pyplot as plt\n",
    "\n",
    "from datasets import Dataset\n",
    "\n",
    "nltk.download(\"punkt\")\n",
    "nltk.download(\"punkt_tab\")"
   ]
  },
  {
   "cell_type": "code",
   "execution_count": 3,
   "id": "b24b545e-658d-4488-83bb-0009f8e7bbb5",
   "metadata": {},
   "outputs": [],
   "source": [
    "PROJECT_ROOT_PATH = os.path.expanduser(\"~\")\n",
    "DRYAD_DATASET_PATH = os.path.join(PROJECT_ROOT_PATH, \"assets\", \"rsos_dream_data.tsv\")\n",
    "DREAM_DATASET_PATH = os.path.join(PROJECT_ROOT_PATH, \"assets\", \"dream_train.json\")\n",
    "INTERPRET_DREAM_QUERY_TEMPLATE = \"Interpret this dream: %s\"\n",
    "MAX_TEXT_INPUT_LENGTH = 512\n",
    "MAX_TEXT_OUTPUT_LENGTH = 512\n",
    "FLAN_T5_SMALL_NAME = \"google/flan-t5-small\"\n",
    "FLAN_T5_SMALL_FINE_TUNED_DIR = os.path.join(PROJECT_ROOT_PATH, \"assets\", \"flan_t5_small_fine_tuned\")\n",
    "FLAN_T5_SMALL_FINE_TUNE_LOGS = os.path.join(PROJECT_ROOT_PATH, \"assets\", \"flan_t5_small_fine_tune_logs\")\n",
    "GPT2_NAME = \"gpt2\""
   ]
  },
  {
   "cell_type": "markdown",
   "id": "c67602a2-d651-4237-97f2-e968ea4e4962",
   "metadata": {},
   "source": [
    "# Datasets Init"
   ]
  },
  {
   "cell_type": "markdown",
   "id": "80752d37-6277-4990-aa25-fd7aac32921a",
   "metadata": {},
   "source": [
    "## Freud Interpret"
   ]
  },
  {
   "cell_type": "code",
   "execution_count": 4,
   "id": "e97cc7ef-d68f-4423-bf57-5aaf10548031",
   "metadata": {},
   "outputs": [
    {
     "name": "stdout",
     "output_type": "stream",
     "text": [
      "                                   dream_description  \\\n",
      "0  I was walking across a narrow bridge high abov...   \n",
      "1  I was climbing a steep mountain, desperately t...   \n",
      "\n",
      "                                dream_interpretation  \n",
      "0  This dream represents fears of losing control ...  \n",
      "1  This dream symbolizes fear of failure or setba...  \n"
     ]
    }
   ],
   "source": [
    "freud_dataset_raw = {\n",
    "  \"I was walking across a narrow bridge high above a canyon when suddenly the ground beneath me gave way. I felt myself plummeting into the abyss, unable to grab onto anything to stop my fall.\": \"This dream represents fears of losing control in a critical situation. The unstable bridge could symbolize fragile confidence or an uncertain path in waking life, while the fall reflects anxieties about failing to maintain stability or achieve a desired outcome.\",\n",
    "  \"I was climbing a steep mountain, desperately trying to reach the top, but my grip slipped, and I tumbled down, feeling a sense of dread and helplessness as I fell further and further away from the summit.\": \"This dream symbolizes fear of failure or setbacks in achieving ambitious goals. The mountain represents aspirations, while the fall may indicate a perceived inability to meet expectations or maintain progress in waking life.\",\n",
    "  \"I was flying through the sky, feeling free and weightless, but suddenly I began to fall. The ground came rushing toward me, and no matter how much I tried, I couldn’t stop myself from crashing.\": \"This dream reflects a fear of losing control after experiencing success or freedom. The fall represents anxieties about an imminent failure or the inability to sustain the elevated state of achievement in waking life.\",\n",
    "  \"I was standing on a crowded train platform, waiting for my train, when I suddenly realized I wasn’t wearing any clothes. Everyone around me started staring and whispering, and I felt frozen, unable to cover myself or escape.\": \"This dream symbolizes feelings of vulnerability and being judged by others. The crowded platform represents a social situation where the dreamer may feel exposed or unprepared, reflecting anxieties about public perception or criticism in waking life.\",\n",
    "  \"I was giving a presentation in front of my colleagues, feeling confident, until I looked down and saw that I was completely naked. The room erupted in laughter, and I felt a wave of shame and panic.\": \"This dream reflects fear of exposure or inadequacy in a professional setting. The nakedness signifies a fear of being unprepared or having personal flaws revealed in front of others, especially in a situation requiring confidence or competence.\",\n",
    "  \"I was walking through a busy city street, surrounded by strangers, when I noticed I had no clothes on. No one seemed to care or notice, but I felt deeply embarrassed and tried to hide behind objects as I moved.\": \"This dream suggests feelings of self-consciousness and a heightened sense of exposure, even when others may not be paying attention. It reflects an internal struggle with insecurity and the dreamer’s fear of being noticed or judged.\",\n",
    "  \"I found myself soaring over a dense forest, the treetops stretching endlessly below me. The wind rushed past my face, and I felt an incredible sense of freedom, as if nothing in the world could hold me back.\": \"This dream symbolizes a deep desire to escape from life’s constraints or responsibilities. The act of flying over the forest suggests a longing to rise above challenges or break free from situations that feel overwhelming or restrictive in waking life.\",\n",
    "  \"I was flying above a vast ocean, skimming the waves with my fingertips. The water sparkled under the sunlight, and I felt light and unburdened, as if all my worries had been left behind on the shore.\": \"This dream represents a yearning for emotional freedom and relief from stress. The ocean often symbolizes the subconscious, and flying over it suggests the dreamer’s wish to transcend deep-seated fears or emotional burdens, seeking liberation and peace.\",\n",
    "  \"I was running through a crowded city, feeling trapped by the chaos, when suddenly I lifted off the ground and flew above the buildings. From above, everything seemed calm, and I felt a sense of control and clarity I hadn’t felt in a long time.\": \"This dream reflects a desire to escape the pressures of daily life. The crowded city symbolizes stress or societal demands, while flying represents the dreamer’s wish to gain a new perspective and freedom from those constraints, reclaiming a sense of control.\",\n",
    "  \"I was talking to a friend when I suddenly felt a strange looseness in my mouth. One by one, my teeth began falling out into my hands. I tried to speak, but my words came out garbled, and my friend just stared at me in shock.\": \"This dream represents anxiety about communication—the inability to speak properly may symbolize a fear of saying the wrong thing or being misunderstood in waking life. It may also reflect social insecurities, particularly about how others perceive the dreamer.\",\n",
    "  \"I was looking in the mirror, brushing my teeth, when I noticed they were crumbling like sand. No matter how much I tried to hold them together, they kept falling apart, leaving me feeling helpless and horrified.\": \"This dream is associated with worries about appearance and self-image. The crumbling teeth may symbolize a fear of aging, losing attractiveness, or feeling powerless over changes in one’s life. It could also reflect a loss of confidence or fear of personal deterioration.\",\n",
    "  \"I was in an important meeting at work, speaking confidently, when I suddenly felt my teeth becoming loose. As I kept talking, they started falling out onto the table. I tried to cover my mouth, but everyone had already noticed\": \"This dream reflects performance anxiety and fear of public embarrassment. It suggests the dreamer may feel insecure about their professional abilities or worry about being judged by colleagues. Losing teeth in front of others can symbolize a fear of losing credibility or respect in a social or work-related environment.\",\n",
    "  \"I dreamed that I was attending my own funeral, watching from a distance as people I knew gathered to say goodbye. Strangely, I didn’t feel scared—just calm, as if I were preparing to leave behind an old version of myself\": \"This dream symbolizes a major life transition or personal transformation. Attending one’s own funeral often represents letting go of the past, shedding old habits, or embracing a new phase in life. It may reflect a psychological rebirth, where the dreamer is moving beyond an old identity or way of living.\",\n",
    "  \"I dreamed that a close friend passed away. I was devastated, but then I saw them again, alive and different somehow—like they had changed into someone new.\": \"This dream is not necessarily about literal death but rather about change. The death of a friend in a dream may indicate that the relationship itself is evolving, or that the dreamer sees a change in the friend’s personality or role in their life. It could also represent fears of losing connection with them.\",\n",
    "  \"I was walking through an old house when I stumbled upon a grave with my childhood name on it. I stood there, realizing that the person I used to be no longer existed.\": \"This dream suggests a symbolic death of the past self. The grave with a childhood name represents growing up, maturing, or leaving behind past behaviors. It may indicate a moment of self-realization where the dreamer acknowledges personal growth or a shift in identity.\",\n",
    "  \"I was sitting in a huge exam hall, staring at a test paper filled with questions I had never seen before. No matter how hard I tried to answer, my mind went blank. The clock was ticking loudly, and I could feel panic rising as time slipped away.\": \"This dream reflects anxiety about performance and judgment. The inability to answer the questions suggests the dreamer may feel unprepared or inadequate in some aspect of their waking life—whether at work, in relationships, or in personal expectations.\",\n",
    "  \"I arrived at school, realizing I had completely forgotten about an important final exam. I frantically searched for a pen, but every time I found one, it wouldn’t write. The teacher glared at me as I struggled, feeling helpless and embarrassed.\": \"This dream represents fear of failure and a lack of control. The forgotten exam may symbolize unconscious self-doubt, while the inability to write can reflect a fear of being powerless or incapable in a real-life situation where the dreamer feels pressured to perform well.\",\n",
    "  \"I was taking a test in a subject I had never studied, but strangely, I felt calm. As I flipped through the pages, I realized the questions were about my own life—decisions I had made, relationships I had built. The answers were not right or wrong, only reflections of my past choices.\": \"This dream suggests self-evaluation and introspection rather than external pressure. Instead of fearing judgment, the dreamer may be going through a phase of self-reflection, questioning past decisions and considering how they have shaped their present reality.\",\n",
    "  \"I was running through a dark forest, my heart pounding as something unseen chased me. No matter how fast I ran, I could hear footsteps closing in behind me. I tried to scream, but no sound came out, and I felt completely powerless.\": \"This dream represents avoidance of a deep-seated fear or unresolved issue in waking life. The unknown pursuer could symbolize anxiety, guilt, or a problem the dreamer is trying to escape rather than confront. The inability to scream suggests feelings of helplessness or repression.\",\n",
    "  \"A masked figure was chasing me through a city. I darted through alleyways and hid behind cars, but no matter where I went, they always found me. Just as they reached out to grab me, I woke up in a panic.\": \"This dream may reflect stress or pressure from an external force—such as work, relationships, or responsibilities that feel overwhelming. The masked figure could symbolize an unknown fear or a situation the dreamer is trying to avoid, but it keeps resurfacing.\",\n",
    "  \"I was being chased by a wild animal, running as fast as I could. Just before it caught me, I turned around and realized the animal was no longer there—I had been running from nothing.\": \"This dream suggests that the dreamer may be running from an imagined or exaggerated fear. It could indicate unnecessary worry or avoidance of an issue that is not as dangerous as it seems. Facing the fear directly may bring relief in waking life.\",\n",
    "  \"I was standing on the edge of a skyscraper, looking down at the city below. Suddenly, the ground beneath me crumbled, and I began to fall. My arms flailed, but there was nothing to hold onto. As I plummeted, my stomach dropped, and I felt completely powerless, knowing there was no way to stop myself from hitting the ground.\": \"This dream symbolizes a fear of losing control in an important aspect of life—whether in career, relationships, or personal stability. The high place represents ambition or success, while the fall reflects anxieties about failing or losing everything. It may also indicate a fear of uncertainty or instability, suggesting that the dreamer feels overwhelmed by circumstances beyond their control.\",\n",
    "  \"I was walking into a classroom filled with students when I suddenly realized I wasn’t wearing any clothes. My heart pounded as I tried to cover myself with my hands, but everyone was staring at me. Some laughed, while others just looked at me with confusion. I wanted to run, but my feet wouldn’t move.\": \"This dream reflects anxiety about judgment and self-image, particularly in academic or social settings. The classroom suggests a fear of intellectual or personal inadequacy, while the inability to escape may indicate feeling trapped in a situation where the dreamer fears being exposed as unprepared or incapable.\",\n",
    "  \"I wasl at a wedding, surrounded by elegantly dressed guests, when I looked down and saw that I was completely naked. No one seemed to notice at first, but as I tried to act normal, whispers and shocked glances spread through the crowd. My face burned with embarrassment as I searched for something to cover myself.\": \"This dream suggests a fear of not meeting social expectations or feeling out of place in formal or high-pressure environments. Weddings often symbolize life transitions, so the nakedness could indicate anxiety about a major change in the dreamer’s personal or social life, such as commitment, relationships, or status.\",\n",
    "  \"I was giving a speech at a large event, feeling confident at first, until I noticed people in the audience giggling. When I looked down, I realized I was wearing nothing. I tried to continue speaking, but the more I spoke, the louder the laughter became, until I could barely hear myself.\": \"This dream represents performance anxiety and fear of public humiliation. The act of giving a speech symbolizes self-expression or professional exposure, while the laughter from the audience suggests a deep-seated fear of criticism or being unprepared in a crucial moment. It may indicate self-doubt in professional or social settings.\",\n",
    "  \"I was running through a field when suddenly my feet lifted off the ground. I soared higher and higher, feeling weightless as I glided over the landscape. The sky was bright and endless, and I felt an incredible sense of freedom, as if I had escaped all my worries.\": \"This dream symbolizes a deep longing for freedom and escape from life’s burdens. The effortless flight represents a desire to break free from stress, responsibilities, or emotional constraints. It may indicate a need to step back from daily pressures and regain a sense of control.\",\n",
    "  \"I was trapped inside a dark, windowless room, struggling to find a way out. Just as I was about to give up, I felt my body become lighter, and I floated toward the ceiling. I passed through the walls and into the open sky, leaving the darkness behind.\": \"This dream reflects a need for escape from a restrictive situation. The dark room symbolizes feeling trapped—either emotionally, mentally, or in a real-life circumstance. Flying away represents breaking free from limitations, whether they be personal, professional, or psychological.\",\n",
    "  \"I was flying over an ocean, the waves shimmering below me as the wind carried me effortlessly. But as I tried to go higher, something invisible pulled me back down, making it harder and harder to stay in the air.\": \"This dream represents an internal conflict between the desire for freedom and external forces holding the dreamer back. The ocean can symbolize the subconscious mind or emotional depth, while the struggle to fly higher suggests real-life obstacles—such as responsibilities, fears, or doubts—that prevent full liberation.\",\n",
    "  \"I was flying over a city at night, watching the streets and buildings below. I felt powerful, like I could go anywhere, but I realized I was alone. There was no one else flying with me, and I suddenly felt disconnected from the world below.\": \"This dream suggests a sense of independence and control but also isolation. The ability to fly symbolizes personal empowerment and self-sufficiency, while the loneliness may indicate feeling detached from others due to personal ambitions or life changes. It may suggest a need to balance independence with connection.\",\n",
    "  \"I was in the middle of a heated argument when, suddenly, I pushed off the ground and flew away. As I soared above the situation, the shouting faded, and I felt an overwhelming sense of relief.\": \"This dream symbolizes a strong desire to avoid confrontation or escape emotional conflicts. Flying away represents removing oneself from a stressful or negative situation rather than facing it directly. It may indicate a tendency to disengage from problems instead of resolving them.\",\n",
    "  \"I was laughing with a group of people when I suddenly felt something strange in my mouth. I reached in and pulled out a loose tooth, but as soon as I did, more teeth started falling out one by one. I tried to hide it, but everyone noticed and looked horrified.\": \"This dream symbolizes anxiety about social perception and self-image. The dreamer may feel insecure about how others see them, particularly in social or professional settings. It could also indicate a fear of embarrassment or saying the wrong thing in an important situation.\",\n",
    "  \"I was chewing on something when I suddenly realized my teeth were crumbling into tiny pieces. No matter how much I tried to spit them out, more and more broke apart, until my entire mouth felt empty and powerless.\": \"This dream reflects a feeling of losing control or power in communication. The act of chewing suggests an attempt to process or handle a situation, but the crumbling teeth indicate a fear of being unable to express oneself effectively or feeling weak in a certain aspect of life.\",\n",
    "  \"I looked in the mirror and noticed my teeth were rotting and falling out. I tried to push them back in, but they kept slipping through my fingers. My reflection looked older and unfamiliar, and I felt a wave of panic.\": \"This dream represents fears related to aging, self-worth, and appearance. The mirror and the decaying teeth may indicate anxiety about physical deterioration, attractiveness, or self-confidence. It could also symbolize feeling unable to stop an inevitable change in life.\",\n",
    "  \"I was about to give a speech in front of a large audience when my teeth started to loosen. As I spoke, they fell out onto the podium one by one. I tried to keep talking, but my voice became distorted, and people in the audience began whispering and laughing.\": \"This dream suggests a fear of public speaking, performance anxiety, or communication failure. Losing teeth while speaking may reflect a deep concern about being judged, misunderstood, or saying something embarrassing. It could also indicate a fear of losing authority or credibility in a situation where the dreamer wants to be taken seriously.\",\n",
    "  \"I was on a date with someone I really liked, feeling confident, when suddenly I felt my teeth becoming loose. I tried to keep smiling and talking, but they started falling out into my hand. My date looked disgusted, and I wanted to disappear.\": \"This dream represents insecurities in romantic or personal relationships. It may indicate a fear of rejection, not being good enough, or feeling exposed in front of someone important. The teeth falling out symbolize a loss of confidence and control in an intimate or vulnerable situation.\",\n",
    "  \"I dreamed that my childhood home was being demolished, and as I stood there watching, I saw my younger self inside, waving goodbye before disappearing in the dust. I felt a strange mix of sadness and relief.\": \"This dream symbolizes the end of a significant life phase and personal transformation. The destruction of the childhood home represents leaving behind old identities, memories, or past attachments, while the younger self waving suggests acknowledging growth and moving forward.\",\n",
    "  \"I was walking through a cemetery when I found a gravestone with my name on it. Instead of feeling afraid, I felt peaceful, as if I was ready to move on to something new. Flowers were growing around the grave, and the air felt fresh and light.\": \"This dream represents acceptance of change and renewal. Seeing one’s own gravestone can symbolize the end of an old version of the self—whether it’s a mindset, habit, or life stage. The peaceful feeling and flowers suggest growth, transformation, and a positive transition into something new.\",\n",
    "  \"I dreamed that I was on a sinking ship, struggling to stay afloat. As the water rose, I panicked, but then I suddenly stopped fighting and let myself sink. Instead of drowning, I found myself in a completely new place, as if I had been reborn.\": \"This dream symbolizes letting go of control and embracing change. The sinking ship represents a part of life that is ending or no longer serving the dreamer, while the transition to a new place suggests a transformation or a fresh start in waking life.\",\n",
    "  \"I was attending a funeral for someone I didn’t know, but when I looked inside the casket, I saw a version of myself lying there. Strangely, I felt no fear—just a quiet understanding that something in my life had come to an end.\": \"This dream suggests a deep personal transformation or shedding of an old identity. Seeing oneself in a casket can represent leaving behind outdated beliefs, behaviors, or past experiences. The calmness in the dream indicates that the dreamer is subconsciously ready for this transition.\",\n",
    "  \"I dreamed that a close friend died, and I was devastated. But later in the dream, I saw them again—alive, but different somehow. They looked older, wiser, and distant, as if they had moved on from our friendship.\": \"This dream may not be about literal death but rather a changing relationship. The death of a friend in a dream can symbolize the evolution or fading of a connection. Seeing them “reborn” as someone different suggests subconscious recognition that the dynamic of the relationship is shifting or that the dreamer is growing apart from them.\",\n",
    "  \"I arrived at an exam hall, but when I looked at the paper, the questions were in a language I didn’t understand. The professor stood over me, waiting for me to write something, but I felt frozen, unable to make sense of a single word.\": \"This dream represents a fear of being unprepared or feeling out of place in a high-pressure situation. The unfamiliar language symbolizes a lack of confidence or knowledge in a specific area of waking life, possibly in a job, relationship, or personal expectation.\",\n",
    "  \"I was taking a math test, but no matter how hard I tried, I couldn’t solve a single problem. My pencil kept breaking, the numbers blurred on the page, and the more I panicked, the faster the clock ticked down.\": \"This dream reflects performance anxiety and a fear of failure. Math often represents logic and problem-solving, so the inability to answer questions may indicate stress about decision-making or feeling mentally overwhelmed in real life.\",\n",
    "  \"I walked into a classroom only to realize I had missed the entire semester and now had to take the final exam. My classmates looked at me with pity as I flipped through the test paper, completely lost.\": \"This dream suggests feelings of inadequacy, imposter syndrome, or guilt about not meeting expectations. It may stem from a fear of being exposed as unprepared or lacking the necessary skills in an important aspect of life.\",\n",
    "  \"I was taking an exam, but instead of using a pen, I had to answer aloud in front of a huge audience. Every time I got a question wrong, the crowd would laugh, and I felt smaller and smaller, as if I might disappear.\": \"This dream symbolizes fear of public embarrassment or social judgment. The exam represents self-evaluation, while the audience reflects external pressures or criticism in real life—perhaps from work, family, or peers.\",\n",
    "  \"I finally finished an impossible exam and felt relieved—only to have the teacher hand me another test, even harder than the last. No matter how many I completed, they just kept coming, and I realized I would never be done.\": \"This dream reflects a feeling of constant pressure or never being ‘good enough’. It suggests that the dreamer may feel like no matter how much they accomplish, new challenges always arise, leading to exhaustion and stress.\",\n",
    "  \"I was running through an empty shopping mall, chased by a shadowy figure. No matter which store I ran into or how many turns I took, the figure was always just behind me. When I finally turned around to confront it, I woke up.\": \"This dream suggests a subconscious avoidance of a fear or unresolved issue. The shadowy figure may represent a hidden anxiety, past mistake, or responsibility that the dreamer has been trying to ignore. The inability to escape could indicate a need to finally confront the problem.\",\n",
    "  \"I was being chased by a pack of wild dogs through a narrow alley. Their growls got louder as they got closer, and I could feel my heart pounding. Just as they were about to catch me, I found a door and slammed it shut behind me.\": \"This dream may symbolize overwhelming stress, pressure, or aggression in waking life. The dogs could represent hostile people, demanding responsibilities, or personal fears that feel uncontrollable. Closing the door suggests a temporary escape, but the unresolved fear may still be present.\",\n",
    "  \"I was walking home when I noticed someone following me. No matter how fast I walked, they stayed the same distance behind me. I never saw their face, but I knew they were always there, just out of sight.\": \"This dream represents a lingering fear or unresolved issue that the dreamer cannot escape. The faceless pursuer may symbolize a hidden worry, guilt, or responsibility that follows the dreamer in waking life, even when they try to ignore it.\",\n",
    "  \"I was running from a giant wave crashing behind me. No matter how fast I ran, the water kept getting closer, and I knew I couldn’t outrun it. Just before it hit me, I woke up.\": \"This dream suggests feeling overwhelmed by emotions, stress, or an unavoidable life event. The wave could symbolize suppressed feelings, anxiety, or external pressures that the dreamer is trying to avoid but knows they must eventually face.\",\n",
    "  \"I was being chased through a dark forest by a version of myself—only this version looked angry and determined. Every time I tried to hide, it found me. It felt like I was running from my own reflection.\": \"This dream symbolizes inner conflict and self-avoidance. Being chased by oneself may indicate denying an aspect of one’s personality, emotions, or past actions. It suggests that the dreamer needs to confront their own thoughts, feelings, or decisions rather than running from them.\"\n",
    "}\n",
    "freud_df = pd.DataFrame(list(freud_dataset_raw.items()), columns=[\"dream_description\", \"dream_interpretation\"])\n",
    "freud_df = freud_df.head(2)\n",
    "print(freud_df.head())\n"
   ]
  },
  {
   "cell_type": "markdown",
   "id": "5f5b082f-18f5-4f72-a9c0-05e8379a6dab",
   "metadata": {
    "jp-MarkdownHeadingCollapsed": true
   },
   "source": [
    "### What is Freud Interpret?\n",
    "This is a manually generated dataset of 50 dreams. They are associated with the common Freud interpretations:\n",
    "* Dreams about falling: Often related to fears of losing control or failing.\n",
    "* Dreams about being naked in public: Can represent feelings of vulnerability or exposure.\n",
    "* Dreams about flying: May symbolize a desire for freedom or escape from constraints.\n",
    "* Dreams about teeth falling out: Could represent anxiety about appearance or communication.\n",
    "* Dreams about death: Often symbolic of change or transition rather than literal death.\n",
    "* Dreams about exams or tests: May reflect feelings of being judged or evaluated in waking life.\n",
    "* Dreams about being chased: Could represent avoiding a problem or fear in waking life.\n",
    "\n",
    "The dataset has no additional data. This is intended to ensure the research of how well models trained on the following datasets cope with unseen, \"raw\" dreams and custom interpretations, i.e. by Freud rules."
   ]
  },
  {
   "cell_type": "markdown",
   "id": "0e51fe0f-b89c-41aa-aca4-fdd5ba854bb6",
   "metadata": {},
   "source": [
    "## Dryad"
   ]
  },
  {
   "cell_type": "code",
   "execution_count": 44,
   "id": "167bc703-6467-4b1f-8ab8-33d6c250b0fb",
   "metadata": {},
   "outputs": [
    {
     "name": "stdout",
     "output_type": "stream",
     "text": [
      "   dream_id dreamer               description dream_date dream_language  \\\n",
      "0         1    alta  Alta: a detailed dreamer       1957             en   \n",
      "1         2    alta  Alta: a detailed dreamer  8/11/1967             en   \n",
      "2         3    alta  Alta: a detailed dreamer   8/1/1985             en   \n",
      "3         4    alta  Alta: a detailed dreamer      1985?             en   \n",
      "4         5    alta  Alta: a detailed dreamer      1985?             en   \n",
      "\n",
      "                                          text_dream  \\\n",
      "0  The one at the Meads's house, where it's bigge...   \n",
      "1  I'm at a family reunion in a large fine house ...   \n",
      "2  I watch a plane fly past and shortly realize i...   \n",
      "3  Me pulling the green leaves and berries off so...   \n",
      "4  I'm in a room that reminds me of (but definite...   \n",
      "\n",
      "                                     characters_code  \\\n",
      "0                       2ISA, 1MKA, 1FDA, 1IOA, 2ISA   \n",
      "1                                 2ISA, people, 2ISA   \n",
      "2           2ISA, 2ISA, 1FSA, 1MBA, 1IOA, 2ISA, 2FDA   \n",
      "3  1MAA, 1FMA, 2ISA, 2IKA, 1ANI, 1ANI, 1IOA, 2ISA...   \n",
      "4                 1IRA, 1MSA, 1ISA, 2ISA, 1ISA, 1IKA   \n",
      "\n",
      "                           emotions_code  \\\n",
      "0                                    NaN   \n",
      "1                                SD 2IKA   \n",
      "2                    SD 1ISA, AP D, AP D   \n",
      "3                          SD 2ISA, SD D   \n",
      "4  AP D, AP D, AP 1MSA, CO D, SD D, AP D   \n",
      "\n",
      "                                     aggression_code        friendliness_code  \\\n",
      "0                                           2IKA > Q                2IKA 4> Q   \n",
      "1                                    D > Q, Q > 2ISA                      NaN   \n",
      "2                       It PRP >, It PRP >, D > 1FKA                      NaN   \n",
      "3                Q > Q, 2ISA > Q, 2ISA > Q, D > 1MSA  1IKA 4> Q, 2ISA 4> 2ISA   \n",
      "4  1MSA > D, Q > Q, D > 2IKA, D > 2IKA, D > 1MSA,...                   D 4> Q   \n",
      "\n",
      "   ...      Male    Animal   Friends    Family  Dead&Imaginary  \\\n",
      "0  ...  0.500000  0.000000  0.200000  0.200000             0.0   \n",
      "1  ...  0.000000  0.000000  0.000000  0.000000             0.0   \n",
      "2  ...  0.333333  0.000000  0.000000  0.285714             0.0   \n",
      "3  ...  0.666667  0.176471  0.142857  0.142857             0.0   \n",
      "4  ...  1.000000  0.000000  0.166667  0.166667             0.0   \n",
      "\n",
      "   Aggression/Friendliness  A/CIndex  F/CIndex  S/CIndex  NegativeEmotions  \n",
      "0                    0.000  0.200000  0.200000       0.0               0.0  \n",
      "1                    1.000  0.666667  0.000000       0.0               1.0  \n",
      "2                    1.000  0.428571  0.000000       0.0               1.0  \n",
      "3                    1.000  0.235294  0.117647       0.0               1.0  \n",
      "4                    0.875  1.333333  0.166667       0.0               1.0  \n",
      "\n",
      "[5 rows x 21 columns]\n"
     ]
    }
   ],
   "source": [
    "dryad_df = pd.read_csv(DRYAD_DATASET_PATH, sep='\\t')\n",
    "dryad_df = dryad_df.head(50) #TODO: remove\n",
    "print(dryad_df.head())"
   ]
  },
  {
   "cell_type": "markdown",
   "id": "842cfd70-fe53-440a-a860-e7f1e9f33487",
   "metadata": {},
   "source": [
    "### What is Dryad dataset?\n",
    "[\"Our Dreams, Our Selves: Automatic Interpretation of Dream Reports\"](https://datadryad.org/stash/dataset/doi:10.5061/dryad.qbzkh18fr) dataset comprises over 20,000 dream reports sourced from https://dreambank.net. It is well-suited for Natural Language Processing tasks, particularly in the realm of automated text analysis and classification:\n",
    "* Identify Characters: Detect and classify entities within dream narratives.\n",
    "* Analyze Interactions: Determine the nature of interactions (e.g., friendly, aggressive, sexual) between characters.\n",
    "* Assess Emotional Tone: Evaluate the emotional content and sentiment expressed in the text.\n",
    "\n",
    "The automated text analysis and classification provides a \"logical bridge\" to Freud dream analysis, which can be outlined as follows:\n",
    "1. Train the model on Dryad dataset.\n",
    "2. \"Translate\" dreams from \"Freud Interpret\" dataset to Dryad encoding format.\n",
    "3. Further train the model with the combined input of 40 \"Freud Interpret\" dream description, associated Dryad encoding format and expected output of Freud interpretation.\n",
    "4. Validate the model on the rest of the 10 \"Freud Interpret\" dreams"
   ]
  },
  {
   "cell_type": "markdown",
   "id": "4dbb23f8-2c04-4889-84ec-c95432e2bbbd",
   "metadata": {},
   "source": [
    "## DREAM"
   ]
  },
  {
   "cell_type": "code",
   "execution_count": 6,
   "id": "953a7813-3040-40f5-a668-08390fd0af12",
   "metadata": {},
   "outputs": [
    {
     "name": "stdout",
     "output_type": "stream",
     "text": [
      "                                            dialogue  \\\n",
      "0  M: I am considering dropping my dancing class....   \n",
      "1  W: Well, I'm afraid my cooking isn't to your t...   \n",
      "2  W: Well, I'm afraid my cooking isn't to your t...   \n",
      "3  M: Look at the girl on the bike! F: Oh, yes sh...   \n",
      "4  M: Can you accompany me while I am singing. W:...   \n",
      "\n",
      "                                          question  \\\n",
      "0          What does the man suggest the woman do?   \n",
      "1  What does the man think of the woman's cooking?   \n",
      "2           What does the woman ask the man to do?   \n",
      "3                       Where are the two persons?   \n",
      "4          What does the man want the woman to do?   \n",
      "\n",
      "                                     multiple_choice  \\\n",
      "0  [Consult her dancing teacher., Take a more int...   \n",
      "1  [It's really terrible., It's very good indeed....   \n",
      "2  [Improve cooking skills., Bring his wife next ...   \n",
      "3       [At home, In their classroom, On the street]   \n",
      "4  [To play the piano., To give a performance., T...   \n",
      "\n",
      "                correct_answer  \n",
      "0  Continue her dancing class.  \n",
      "1       It's very good indeed.  \n",
      "2    Bring his wife next time.  \n",
      "3                On the street  \n",
      "4           To play the piano.  \n"
     ]
    }
   ],
   "source": [
    "dream_dataset_raw = None\n",
    "with open(DREAM_DATASET_PATH, \"r\") as a_file:\n",
    "  dream_dataset_raw = json.load(a_file)\n",
    "dream_df_rows_raw = []\n",
    "for an_item in dream_dataset_raw:\n",
    "  a_dialogue = \" \".join(an_item[0])\n",
    "  for a_question_item in an_item[1]:\n",
    "    a_question = a_question_item[\"question\"]\n",
    "    multiple_choices = a_question_item[\"choice\"]\n",
    "    an_answer = a_question_item[\"answer\"]\n",
    "    dream_df_rows_raw.append({\n",
    "      \"dialogue\": a_dialogue,\n",
    "      \"question\": a_question,\n",
    "      \"multiple_choice\": multiple_choices,\n",
    "      \"correct_answer\": an_answer\n",
    "    })\n",
    "dream_df = pd.DataFrame(dream_df_rows_raw)\n",
    "dream_df = dream_df.head(10) #TODO: remove\n",
    "print(dream_df.head())"
   ]
  },
  {
   "cell_type": "markdown",
   "id": "45f278ab-d808-46d8-829f-4ff92bbd3dd9",
   "metadata": {},
   "source": [
    "### What is DREAM dataset?\n",
    "[DREAM](https://dataset.org/dream/) is a multiple-choice Dialogue-based REAding comprehension exaMination dataset. It's data can be examined at [official repository](https://github.com/nlpdata/dream/tree/master/data).\n",
    "\n",
    "Dialogue presents an outstanding dataset trait, which presents a significant challenge for nowadays LLMs. The prediction of correct asnwer inherently requires from a model to \"reason\" beyond the standard approach of `next 1 or 2 words prediction` even when concept of \"attention\" is utilized.\n",
    "\n",
    "Which is what makes this dataset a suitable train source for our task at hand. Mapping dreams to Freud interpretations is inherently more complicated than a naive classification combined with prediction of the next `N` words. There is a requirement to \"reason\" about interpretation with a dream's summary \"in mind\"."
   ]
  },
  {
   "cell_type": "markdown",
   "id": "647397c2-1c09-4a7c-86f0-78fc943aa681",
   "metadata": {},
   "source": [
    "# Models Choice"
   ]
  },
  {
   "cell_type": "markdown",
   "id": "d16cd1a4-4c42-4573-985b-d3bf037b6d3f",
   "metadata": {},
   "source": [
    "## Flan-T5-Small\n",
    "[Google's Flan-T5-Small](https://huggingface.co/google/flan-t5-small) is the first model choice, which will be trained on the \"Dryad\" dataset. This is a \"light\" version of [Google's T5-large](https://huggingface.co/google-t5/t5-large).\n",
    "\n",
    "The motivation is T5 specializing at [Transfer learning](https://en.wikipedia.org/wiki/Transfer_learning). According to the [official accompanying paper](https://jmlr.org/papers/volume21/20-074/20-074.pdf), we assume that the model is expected to sort of \"gracefully translate\" a dream's summary to a Freud interpretation. The underlying principle in T5 is the treatment of every text processing problem as a \"text-to-text\" problem. Which suits our task at hand.\n",
    "\n",
    "Translation is not the only model's strong trait. It also specializes at abstract summariztion, unlike its counterparts from BERT family.\n",
    "\n",
    "The secondary reasoning for choosing Flan-T5-Small is our computational resources. The research is conducted on Macbook Pro M1 machine, which has modest graphical processing capabilities."
   ]
  },
  {
   "cell_type": "markdown",
   "id": "a886449c-8b6d-47f8-b192-d53e24a073b4",
   "metadata": {},
   "source": [
    "## GPT-2 Small\n",
    "[GPT2 Small](https://huggingface.co/docs/transformers/en/model_doc/gpt2) is the second model choice, primarily given the industry wide success of [OpenAI](https://openai.com) in complicated human level tasks, like dream interpretation.\n",
    "\n",
    "As with the previous model, GPT2 Small is a lightweight counterpart of GPT-2 (a predecessor to the famous GPT-3) that fits our local computational environment."
   ]
  },
  {
   "cell_type": "markdown",
   "id": "c23af2b4-6fb5-4e7f-b6a1-d0cfafce7484",
   "metadata": {},
   "source": [
    "# Ruled out models\n",
    "## DistilBERT\n",
    "[DistilBERT](https://huggingface.co/docs/transformers/en/model_doc/distilbert) is a \"light\" version of [BERT](https://arxiv.org/abs/1810.04805).\n",
    "\n",
    "The motivation behind the light version is computational environment constraints, similar to motivation behind Flan-T5-Small.\n",
    "\n",
    "More important though, is the fact that \"BERT\" is sort of an alternative strategy to \"T5-large\". It is designed to pretrain deep bidirectional representations. This makes it a perfect candidate for question answering and language inference with just an additional single layer during fine-tuning. However, it works by filling in MASK values - whereas our goal is to generate entire sequences based on the input context.\n",
    "\n",
    "## TinyLlama/TinyLlama-1.1B-Chat-v1.0\n",
    "[TinyLlama/TinyLlama-1.1B-Chat-v1.0](https://huggingface.co/TinyLlama/TinyLlama-1.1B-Chat-v1.0) is a \"light\" version of [LLaMA](https://huggingface.co/docs/transformers/en/model_doc/llama). While it is similar in its operation to \"T5\", even the light version did not terminate generation on our computational environment of a single output."
   ]
  },
  {
   "cell_type": "markdown",
   "id": "9a886352-a07e-41cc-af83-144ec32a8f67",
   "metadata": {},
   "source": [
    "# Research question\n",
    "We would like to measure models' performance on the Freud dream interpretation task with the following metrics:\n",
    "* BLEU\n",
    "* ROUGE\n",
    "* Perplexity\n",
    "* BERT score\n",
    "\n",
    "Our expected observations are two-fold.  \n",
    "First, both models are expected to perform poorly on the Freud dataset. This is because of an inherent low probability that their training involved such a specific task. However, there is an option that Freud interpretation system itself was actually covered, thanks to the vast data volume used during both models' training.  \n",
    "Still, we expect a poor performance. Especially in regard of metrics like BLEU, because our Freud interpretations are custom. Their exact formulation must be novel to each model.\n",
    "\n",
    "In any case, the first observation of metrics will be treated as a baseline.\n",
    "\n",
    "Our final observation is expected to see the improvement in each metric. This is because of the \"fine-tuning\" that each model will go through based on our dream datasets."
   ]
  },
  {
   "cell_type": "markdown",
   "id": "76f1a55f-89f1-45a6-b6c1-299a6f737e30",
   "metadata": {},
   "source": [
    "# Metrics"
   ]
  },
  {
   "cell_type": "code",
   "execution_count": 6,
   "id": "eb9a2ea1-d09d-4bef-a0b7-cd93ea114def",
   "metadata": {},
   "outputs": [],
   "source": [
    "def plot_metrics(metrics_df):\n",
    "  score_names = [\"bleu\", \"rouge\", \"perplexity\", \"bert_score\"]\n",
    "  \n",
    "  fig, axes = plt.subplots(2, 2, figsize=(12, 10))\n",
    "  \n",
    "  row0 = metrics_df.iloc[0]\n",
    "  values = [row0[col] for col in score_names]\n",
    "  axes[0, 0].bar(score_names, values, color=[\"blue\", \"red\", \"green\", \"purple\"])\n",
    "  axes[0, 0].set_title(f\"Metrics of {row0['model_name']}\")\n",
    "  axes[0, 0].set_ylabel(\"Normalized Score\")\n",
    "\n",
    "  row1 = metrics_df.iloc[1]\n",
    "  values = [row1[col] for col in score_names]\n",
    "  axes[0, 1].bar(score_names, values, color=[\"blue\", \"red\", \"green\", \"purple\"])\n",
    "  axes[0, 1].set_title(f\"Metrics of {row1['model_name']}\")\n",
    "  axes[0, 1].set_ylabel(\"Normalized Score\")\n",
    "\n",
    "  models = [row0[\"model_name\"], row1[\"model_name\"]]\n",
    "  execution_times = [row0[\"execution_time_in_seconds\"], row1[\"execution_time_in_seconds\"]]\n",
    "  axes[1, 0].bar(models, execution_times, color=[\"orange\", \"cyan\"])\n",
    "  axes[1, 0].set_title(\"Freud dataset: %s VS %s runtime\" % (row0[\"model_name\"], row1[\"model_name\"]))\n",
    "  axes[1, 0].set_ylabel(\"Execution Time (seconds)\")\n",
    "  axes[1, 1].axis(\"off\")\n",
    "\n",
    "  plt.tight_layout()\n",
    "  plt.show()"
   ]
  },
  {
   "cell_type": "markdown",
   "id": "aaf347ba-eba1-43d1-a173-a62ffe843da6",
   "metadata": {},
   "source": [
    "## Bilingual Evaluation Understudy (BLEU)\n",
    "This is a cumulative representation of precision in `N-gram` overlaps between expected and actual output."
   ]
  },
  {
   "cell_type": "code",
   "execution_count": 7,
   "id": "af3c893b-6e39-479e-86e2-d4a4642397ea",
   "metadata": {},
   "outputs": [],
   "source": [
    "def calculate_bleu(the_device, the_model, the_tokenizer, test_df):\n",
    "  bleu_scores = []\n",
    "  for _, a_row in test_df.iterrows():\n",
    "    input_text = INTERPRET_DREAM_QUERY_TEMPLATE % a_row[\"dream_description\"]\n",
    "    reference = [word_tokenize(a_row[\"dream_interpretation\"])] # preserves punctuation tokens\n",
    "    inputs = the_tokenizer(input_text, return_tensors=\"pt\", truncation=True, max_length=MAX_TEXT_INPUT_LENGTH).to(the_device)\n",
    "    smoothing = SmoothingFunction().method1 # keeps meaningful score when output is too short, i.e. not a single 2-gram matche exists\n",
    "    with torch.no_grad(): # memory usage, inference speed, and accidental gradien updates are improved by disabling gradient computation\n",
    "      output_ids = the_model.generate(**inputs, max_length=MAX_TEXT_OUTPUT_LENGTH)\n",
    "      generated_text = the_tokenizer.decode(output_ids[0], skip_special_tokens=True)\n",
    "      candidate = word_tokenize(generated_text)\n",
    "      bleu = sentence_bleu(reference, candidate, smoothing_function=smoothing)\n",
    "      bleu_scores.append(bleu)\n",
    "    \n",
    "  avg_bleu = sum(bleu_scores) / len(bleu_scores)\n",
    "  return avg_bleu"
   ]
  },
  {
   "cell_type": "markdown",
   "id": "bfb28d83-3da4-44e9-94ad-7c956ed85843",
   "metadata": {},
   "source": [
    "## Recall-Oriented Understudy for Gisting Evaluation (ROUGE)\n",
    "This is a family of metrics that evaluates an existing overlap between the expected and actual output.\n",
    "\n",
    "`ROUGE-L` is to be used, which operates on `N-grams` (similar to `BLEU`). \"L\" stands for the longest sequence match.  \n",
    "`ROUGE` concentrates on recall, while `BLEU` concentrates on precision.  \n",
    "The former captures the amount of expected output captured in the actual output, while the later measures the exact `N-gram` matches."
   ]
  },
  {
   "cell_type": "code",
   "execution_count": 8,
   "id": "c9383d54-3ccb-4293-be7e-bae7801c08cd",
   "metadata": {},
   "outputs": [],
   "source": [
    "def calculate_rouge_l(the_device, the_model, the_tokenizer, test_df):\n",
    "  rouge_scores = []\n",
    "  scorer = rouge_scorer.RougeScorer([\"rougeL\"], use_stemmer=True)\n",
    "  for _, a_row in test_df.iterrows():\n",
    "    input_text = INTERPRET_DREAM_QUERY_TEMPLATE % a_row[\"dream_description\"]\n",
    "    reference = a_row[\"dream_interpretation\"]\n",
    "    inputs = the_tokenizer(input_text, return_tensors=\"pt\", truncation=True, max_length=MAX_TEXT_INPUT_LENGTH).to(the_device)\n",
    "    with torch.no_grad():\n",
    "      output_ids = the_model.generate(**inputs, max_length=MAX_TEXT_OUTPUT_LENGTH)\n",
    "      generated_text = the_tokenizer.decode(output_ids[0], skip_special_tokens=True)\n",
    "      # the difference with BLEU is the absence of exact tokenization match, which is why \"word_tokenize\" is skipped here.\n",
    "      rouge_score = scorer.score(reference, generated_text)[\"rougeL\"].fmeasure\n",
    "      rouge_scores.append(rouge_score)\n",
    "  return sum(rouge_scores) / len(rouge_scores)"
   ]
  },
  {
   "cell_type": "markdown",
   "id": "7d235f60-901b-44bf-89d3-94bac15ebedf",
   "metadata": {},
   "source": [
    "## Perplexity\n",
    "This is a metric that measures entropy in a model when generating a text. It operates on the probability distribution over the words in a sentece. Which is a different approach compared to `BLEU` and `ROUGE`.\n",
    "\n",
    "The min and max perplexity value will be used, to normalize the score that originally is in rage of 1 to infinity."
   ]
  },
  {
   "cell_type": "code",
   "execution_count": 9,
   "id": "ad5ad1dd-5a25-4640-ba66-ca50027b3d6c",
   "metadata": {},
   "outputs": [],
   "source": [
    "def calculate_perplexity(the_device, the_model, the_tokenizer, test_df):\n",
    "  perplexities = []\n",
    "  the_model.to(the_device)\n",
    "  the_model.eval()\n",
    "  for _, a_row in test_df.iterrows():\n",
    "    input_text = INTERPRET_DREAM_QUERY_TEMPLATE % a_row[\"dream_description\"]\n",
    "    tokens = the_tokenizer(input_text, return_tensors=\"pt\", truncation=True, max_length=MAX_TEXT_INPUT_LENGTH).to(the_device)\n",
    "    with torch.no_grad():\n",
    "      outputs = the_model(**tokens, labels=tokens[\"input_ids\"])\n",
    "      loss = outputs.loss\n",
    "      perplexity = torch.exp(loss)\n",
    "      perplexities.append(perplexity.item())\n",
    "\n",
    "  min_ppl, max_ppl = min(perplexities), max(perplexities)\n",
    "  normalized_ppl_scores = [(max_ppl - p) / (max_ppl - min_ppl) for p in perplexities]  \n",
    "  return sum(normalized_ppl_scores) / len(normalized_ppl_scores)"
   ]
  },
  {
   "cell_type": "markdown",
   "id": "363eb252-0005-4780-9277-6ca3890a2ba6",
   "metadata": {},
   "source": [
    "## BERT score\n",
    "This is yet another type of metric that differs from `BLEU`, `ROUGE`, and `Perplexity`.\n",
    "\n",
    "It measures the semantic similarities between expected and actual output."
   ]
  },
  {
   "cell_type": "code",
   "execution_count": 10,
   "id": "c098f1b2-3179-4a53-bf72-d2124bb20b61",
   "metadata": {},
   "outputs": [],
   "source": [
    "def calculate_bert_score(the_model, the_tokenizer, test_df):\n",
    "  references = test_df[\"dream_interpretation\"].tolist()\n",
    "  candidates = []\n",
    "  for _, a_row in test_df.iterrows():\n",
    "    input_text = INTERPRET_DREAM_QUERY_TEMPLATE % a_row[\"dream_description\"]\n",
    "    inputs = the_tokenizer(input_text, return_tensors=\"pt\", truncation=True, max_length=MAX_TEXT_INPUT_LENGTH)\n",
    "    with torch.no_grad():\n",
    "      output_ids = the_model.generate(**inputs, max_length=MAX_TEXT_OUTPUT_LENGTH)\n",
    "      generated_text = the_tokenizer.decode(output_ids[0], skip_special_tokens=True)\n",
    "      candidates.append(generated_text)\n",
    "\n",
    "  P, R, F1 = score(candidates, references, lang=\"en\", model_type=\"microsoft/deberta-xlarge-mnli\")\n",
    "\n",
    "  return F1.mean().item()  # Return the average BERTScore (F1)"
   ]
  },
  {
   "cell_type": "markdown",
   "id": "7d5d52d6-8a7d-4f38-a99d-8a7faa97d374",
   "metadata": {},
   "source": [
    "# Models Init"
   ]
  },
  {
   "cell_type": "code",
   "execution_count": 11,
   "id": "884907c8-aa11-4d87-b222-85ee5bf05dc2",
   "metadata": {},
   "outputs": [],
   "source": [
    "current_device = torch.device(\"mps\" if torch.backends.mps.is_available() else \"cpu\")"
   ]
  },
  {
   "cell_type": "markdown",
   "id": "d4005f40-c93d-422f-85a1-8c47dccdebb3",
   "metadata": {},
   "source": [
    "## Flan-T5-Small"
   ]
  },
  {
   "cell_type": "code",
   "execution_count": 59,
   "id": "1718c026-3c43-4886-ab0b-98382905dafa",
   "metadata": {},
   "outputs": [
    {
     "name": "stdout",
     "output_type": "stream",
     "text": [
      "google/flan-t5-small model loaded on cpu\n"
     ]
    }
   ],
   "source": [
    "t5_tokenizer = T5Tokenizer.from_pretrained(FLAN_T5_SMALL_NAME)\n",
    "t5_model = T5ForConditionalGeneration.from_pretrained(FLAN_T5_SMALL_NAME)\n",
    "t5_model.to(current_device)\n",
    "print(f\"{FLAN_T5_SMALL_NAME} model loaded on {current_device}\")"
   ]
  },
  {
   "cell_type": "markdown",
   "id": "b2532dc8-3aec-4497-b55f-a5854cf2d277",
   "metadata": {},
   "source": [
    "## GPT-2 Small"
   ]
  },
  {
   "cell_type": "code",
   "execution_count": 14,
   "id": "4931d0b8-ad15-42de-bb81-515b389c09fa",
   "metadata": {},
   "outputs": [
    {
     "name": "stdout",
     "output_type": "stream",
     "text": [
      "gpt2 model loaded on cpu\n"
     ]
    }
   ],
   "source": [
    "gpt2_tokenizer = AutoTokenizer.from_pretrained(GPT2_NAME)\n",
    "gpt2_model = AutoModelForCausalLM.from_pretrained(GPT2_NAME)\n",
    "print(f\"{GPT2_NAME} model loaded on {current_device}\")"
   ]
  },
  {
   "cell_type": "markdown",
   "id": "37a066da-82e1-4970-b706-c97b669accba",
   "metadata": {},
   "source": [
    "# Baseline performance"
   ]
  },
  {
   "cell_type": "code",
   "execution_count": 13,
   "id": "c65e4cef-b922-4227-a9e0-c82449e408e1",
   "metadata": {},
   "outputs": [],
   "source": [
    "baseline_df = pd.DataFrame(columns=[\"model_name\", \"bleu\", \"rouge\", \"perplexity\", \"bert_score\", \"execution_time_in_seconds\"])"
   ]
  },
  {
   "cell_type": "markdown",
   "id": "224475b0-a3e3-4f73-8516-098ce79033c9",
   "metadata": {},
   "source": [
    "## Flan-T5-Small"
   ]
  },
  {
   "cell_type": "code",
   "execution_count": 14,
   "id": "80b18ca7-7c81-409d-99bc-2285ff34d9ed",
   "metadata": {},
   "outputs": [
    {
     "name": "stderr",
     "output_type": "stream",
     "text": [
      "Passing a tuple of `past_key_values` is deprecated and will be removed in Transformers v4.48.0. You should pass an instance of `EncoderDecoderCache` instead, e.g. `past_key_values=EncoderDecoderCache.from_legacy_cache(past_key_values)`.\n"
     ]
    },
    {
     "name": "stdout",
     "output_type": "stream",
     "text": [
      "{'model_name': 'google/flan-t5-small', 'bleu': '0.0049', 'rouge': '0.1077', 'perplexity': '0.5000', 'bert_score': '0.5423', 'execution_time_in_seconds': '33.9775'}\n"
     ]
    }
   ],
   "source": [
    "t5_baseline_row = {\n",
    "  \"model_name\": FLAN_T5_SMALL_NAME,\n",
    "  \"bleu\": None,\n",
    "  \"rouge\": None,\n",
    "  \"perplexity\": None,\n",
    "  \"bert_score\": None,\n",
    "  \"execution_time_in_seconds\": None\n",
    "}\n",
    "start_time = time.time()\n",
    "t5_baseline_row[\"bleu\"] = \"%.4f\" % calculate_bleu(current_device, t5_model, t5_tokenizer, freud_df)\n",
    "t5_baseline_row[\"rouge\"] = \"%.4f\" % calculate_rouge_l(current_device, t5_model, t5_tokenizer, freud_df)\n",
    "t5_baseline_row[\"perplexity\"] = \"%.4f\" % calculate_perplexity(current_device, t5_model, t5_tokenizer, freud_df)\n",
    "t5_baseline_row[\"bert_score\"] = \"%.4f\" % calculate_bert_score(t5_model, t5_tokenizer, freud_df)\n",
    "end_time = time.time()\n",
    "t5_baseline_row[\"execution_time_in_seconds\"] = \"%.4f\" % (end_time - start_time)\n",
    "print(t5_baseline_row) #TODO: remove\n",
    "baseline_df.loc[baseline_df.shape[0]] = t5_baseline_row"
   ]
  },
  {
   "cell_type": "markdown",
   "id": "89fea86b-6c9b-4132-8a07-0db9ec93982a",
   "metadata": {},
   "source": [
    "## GPT-2 Small"
   ]
  },
  {
   "cell_type": "code",
   "execution_count": 17,
   "id": "18d763c1-c4a9-42cd-9a38-cc0da03a3195",
   "metadata": {},
   "outputs": [
    {
     "name": "stderr",
     "output_type": "stream",
     "text": [
      "Setting `pad_token_id` to `eos_token_id`:50256 for open-end generation.\n",
      "Setting `pad_token_id` to `eos_token_id`:50256 for open-end generation.\n",
      "Setting `pad_token_id` to `eos_token_id`:50256 for open-end generation.\n",
      "Setting `pad_token_id` to `eos_token_id`:50256 for open-end generation.\n",
      "Setting `pad_token_id` to `eos_token_id`:50256 for open-end generation.\n",
      "Setting `pad_token_id` to `eos_token_id`:50256 for open-end generation.\n",
      "Setting `pad_token_id` to `eos_token_id`:50256 for open-end generation.\n",
      "Setting `pad_token_id` to `eos_token_id`:50256 for open-end generation.\n",
      "Setting `pad_token_id` to `eos_token_id`:50256 for open-end generation.\n",
      "Setting `pad_token_id` to `eos_token_id`:50256 for open-end generation.\n",
      "Setting `pad_token_id` to `eos_token_id`:50256 for open-end generation.\n",
      "Setting `pad_token_id` to `eos_token_id`:50256 for open-end generation.\n",
      "Setting `pad_token_id` to `eos_token_id`:50256 for open-end generation.\n",
      "Setting `pad_token_id` to `eos_token_id`:50256 for open-end generation.\n",
      "Setting `pad_token_id` to `eos_token_id`:50256 for open-end generation.\n",
      "Setting `pad_token_id` to `eos_token_id`:50256 for open-end generation.\n",
      "Setting `pad_token_id` to `eos_token_id`:50256 for open-end generation.\n",
      "Setting `pad_token_id` to `eos_token_id`:50256 for open-end generation.\n",
      "Setting `pad_token_id` to `eos_token_id`:50256 for open-end generation.\n",
      "Setting `pad_token_id` to `eos_token_id`:50256 for open-end generation.\n",
      "Setting `pad_token_id` to `eos_token_id`:50256 for open-end generation.\n",
      "Setting `pad_token_id` to `eos_token_id`:50256 for open-end generation.\n",
      "Setting `pad_token_id` to `eos_token_id`:50256 for open-end generation.\n",
      "Setting `pad_token_id` to `eos_token_id`:50256 for open-end generation.\n",
      "Setting `pad_token_id` to `eos_token_id`:50256 for open-end generation.\n",
      "Setting `pad_token_id` to `eos_token_id`:50256 for open-end generation.\n",
      "Setting `pad_token_id` to `eos_token_id`:50256 for open-end generation.\n",
      "Setting `pad_token_id` to `eos_token_id`:50256 for open-end generation.\n",
      "Setting `pad_token_id` to `eos_token_id`:50256 for open-end generation.\n",
      "Setting `pad_token_id` to `eos_token_id`:50256 for open-end generation.\n",
      "Setting `pad_token_id` to `eos_token_id`:50256 for open-end generation.\n",
      "Setting `pad_token_id` to `eos_token_id`:50256 for open-end generation.\n",
      "Setting `pad_token_id` to `eos_token_id`:50256 for open-end generation.\n",
      "Setting `pad_token_id` to `eos_token_id`:50256 for open-end generation.\n",
      "Setting `pad_token_id` to `eos_token_id`:50256 for open-end generation.\n",
      "Setting `pad_token_id` to `eos_token_id`:50256 for open-end generation.\n",
      "Setting `pad_token_id` to `eos_token_id`:50256 for open-end generation.\n",
      "Setting `pad_token_id` to `eos_token_id`:50256 for open-end generation.\n",
      "Setting `pad_token_id` to `eos_token_id`:50256 for open-end generation.\n",
      "Setting `pad_token_id` to `eos_token_id`:50256 for open-end generation.\n",
      "Setting `pad_token_id` to `eos_token_id`:50256 for open-end generation.\n",
      "Setting `pad_token_id` to `eos_token_id`:50256 for open-end generation.\n",
      "Setting `pad_token_id` to `eos_token_id`:50256 for open-end generation.\n",
      "Setting `pad_token_id` to `eos_token_id`:50256 for open-end generation.\n",
      "Setting `pad_token_id` to `eos_token_id`:50256 for open-end generation.\n",
      "Setting `pad_token_id` to `eos_token_id`:50256 for open-end generation.\n",
      "Setting `pad_token_id` to `eos_token_id`:50256 for open-end generation.\n",
      "Setting `pad_token_id` to `eos_token_id`:50256 for open-end generation.\n",
      "Setting `pad_token_id` to `eos_token_id`:50256 for open-end generation.\n",
      "Setting `pad_token_id` to `eos_token_id`:50256 for open-end generation.\n",
      "Setting `pad_token_id` to `eos_token_id`:50256 for open-end generation.\n",
      "Setting `pad_token_id` to `eos_token_id`:50256 for open-end generation.\n",
      "Setting `pad_token_id` to `eos_token_id`:50256 for open-end generation.\n",
      "Setting `pad_token_id` to `eos_token_id`:50256 for open-end generation.\n",
      "Setting `pad_token_id` to `eos_token_id`:50256 for open-end generation.\n",
      "Setting `pad_token_id` to `eos_token_id`:50256 for open-end generation.\n",
      "Setting `pad_token_id` to `eos_token_id`:50256 for open-end generation.\n",
      "Setting `pad_token_id` to `eos_token_id`:50256 for open-end generation.\n",
      "Setting `pad_token_id` to `eos_token_id`:50256 for open-end generation.\n",
      "Setting `pad_token_id` to `eos_token_id`:50256 for open-end generation.\n",
      "Setting `pad_token_id` to `eos_token_id`:50256 for open-end generation.\n",
      "Setting `pad_token_id` to `eos_token_id`:50256 for open-end generation.\n",
      "Setting `pad_token_id` to `eos_token_id`:50256 for open-end generation.\n",
      "Setting `pad_token_id` to `eos_token_id`:50256 for open-end generation.\n",
      "Setting `pad_token_id` to `eos_token_id`:50256 for open-end generation.\n",
      "Setting `pad_token_id` to `eos_token_id`:50256 for open-end generation.\n",
      "Setting `pad_token_id` to `eos_token_id`:50256 for open-end generation.\n",
      "Setting `pad_token_id` to `eos_token_id`:50256 for open-end generation.\n",
      "Setting `pad_token_id` to `eos_token_id`:50256 for open-end generation.\n",
      "Setting `pad_token_id` to `eos_token_id`:50256 for open-end generation.\n",
      "Setting `pad_token_id` to `eos_token_id`:50256 for open-end generation.\n",
      "Setting `pad_token_id` to `eos_token_id`:50256 for open-end generation.\n",
      "Setting `pad_token_id` to `eos_token_id`:50256 for open-end generation.\n",
      "Setting `pad_token_id` to `eos_token_id`:50256 for open-end generation.\n",
      "Setting `pad_token_id` to `eos_token_id`:50256 for open-end generation.\n",
      "Setting `pad_token_id` to `eos_token_id`:50256 for open-end generation.\n",
      "Setting `pad_token_id` to `eos_token_id`:50256 for open-end generation.\n",
      "Setting `pad_token_id` to `eos_token_id`:50256 for open-end generation.\n",
      "Setting `pad_token_id` to `eos_token_id`:50256 for open-end generation.\n",
      "Setting `pad_token_id` to `eos_token_id`:50256 for open-end generation.\n",
      "Setting `pad_token_id` to `eos_token_id`:50256 for open-end generation.\n",
      "Setting `pad_token_id` to `eos_token_id`:50256 for open-end generation.\n",
      "Setting `pad_token_id` to `eos_token_id`:50256 for open-end generation.\n",
      "Setting `pad_token_id` to `eos_token_id`:50256 for open-end generation.\n",
      "Setting `pad_token_id` to `eos_token_id`:50256 for open-end generation.\n",
      "Setting `pad_token_id` to `eos_token_id`:50256 for open-end generation.\n",
      "Setting `pad_token_id` to `eos_token_id`:50256 for open-end generation.\n",
      "Setting `pad_token_id` to `eos_token_id`:50256 for open-end generation.\n",
      "Setting `pad_token_id` to `eos_token_id`:50256 for open-end generation.\n",
      "Setting `pad_token_id` to `eos_token_id`:50256 for open-end generation.\n",
      "Setting `pad_token_id` to `eos_token_id`:50256 for open-end generation.\n",
      "Setting `pad_token_id` to `eos_token_id`:50256 for open-end generation.\n",
      "Setting `pad_token_id` to `eos_token_id`:50256 for open-end generation.\n",
      "Setting `pad_token_id` to `eos_token_id`:50256 for open-end generation.\n",
      "Setting `pad_token_id` to `eos_token_id`:50256 for open-end generation.\n",
      "Setting `pad_token_id` to `eos_token_id`:50256 for open-end generation.\n",
      "Setting `pad_token_id` to `eos_token_id`:50256 for open-end generation.\n",
      "Setting `pad_token_id` to `eos_token_id`:50256 for open-end generation.\n",
      "Setting `pad_token_id` to `eos_token_id`:50256 for open-end generation.\n",
      "Setting `pad_token_id` to `eos_token_id`:50256 for open-end generation.\n",
      "Setting `pad_token_id` to `eos_token_id`:50256 for open-end generation.\n",
      "Setting `pad_token_id` to `eos_token_id`:50256 for open-end generation.\n",
      "Setting `pad_token_id` to `eos_token_id`:50256 for open-end generation.\n",
      "Setting `pad_token_id` to `eos_token_id`:50256 for open-end generation.\n",
      "Setting `pad_token_id` to `eos_token_id`:50256 for open-end generation.\n",
      "Setting `pad_token_id` to `eos_token_id`:50256 for open-end generation.\n",
      "Setting `pad_token_id` to `eos_token_id`:50256 for open-end generation.\n",
      "Setting `pad_token_id` to `eos_token_id`:50256 for open-end generation.\n",
      "Setting `pad_token_id` to `eos_token_id`:50256 for open-end generation.\n",
      "Setting `pad_token_id` to `eos_token_id`:50256 for open-end generation.\n",
      "Setting `pad_token_id` to `eos_token_id`:50256 for open-end generation.\n",
      "Setting `pad_token_id` to `eos_token_id`:50256 for open-end generation.\n",
      "Setting `pad_token_id` to `eos_token_id`:50256 for open-end generation.\n",
      "Setting `pad_token_id` to `eos_token_id`:50256 for open-end generation.\n",
      "Setting `pad_token_id` to `eos_token_id`:50256 for open-end generation.\n",
      "Setting `pad_token_id` to `eos_token_id`:50256 for open-end generation.\n",
      "Setting `pad_token_id` to `eos_token_id`:50256 for open-end generation.\n",
      "Setting `pad_token_id` to `eos_token_id`:50256 for open-end generation.\n",
      "Setting `pad_token_id` to `eos_token_id`:50256 for open-end generation.\n",
      "Setting `pad_token_id` to `eos_token_id`:50256 for open-end generation.\n",
      "Setting `pad_token_id` to `eos_token_id`:50256 for open-end generation.\n",
      "Setting `pad_token_id` to `eos_token_id`:50256 for open-end generation.\n",
      "Setting `pad_token_id` to `eos_token_id`:50256 for open-end generation.\n",
      "Setting `pad_token_id` to `eos_token_id`:50256 for open-end generation.\n",
      "Setting `pad_token_id` to `eos_token_id`:50256 for open-end generation.\n",
      "Setting `pad_token_id` to `eos_token_id`:50256 for open-end generation.\n",
      "Setting `pad_token_id` to `eos_token_id`:50256 for open-end generation.\n",
      "Setting `pad_token_id` to `eos_token_id`:50256 for open-end generation.\n",
      "Setting `pad_token_id` to `eos_token_id`:50256 for open-end generation.\n",
      "Setting `pad_token_id` to `eos_token_id`:50256 for open-end generation.\n",
      "Setting `pad_token_id` to `eos_token_id`:50256 for open-end generation.\n",
      "Setting `pad_token_id` to `eos_token_id`:50256 for open-end generation.\n",
      "Setting `pad_token_id` to `eos_token_id`:50256 for open-end generation.\n",
      "Setting `pad_token_id` to `eos_token_id`:50256 for open-end generation.\n",
      "Setting `pad_token_id` to `eos_token_id`:50256 for open-end generation.\n",
      "Setting `pad_token_id` to `eos_token_id`:50256 for open-end generation.\n",
      "Setting `pad_token_id` to `eos_token_id`:50256 for open-end generation.\n",
      "Setting `pad_token_id` to `eos_token_id`:50256 for open-end generation.\n",
      "Setting `pad_token_id` to `eos_token_id`:50256 for open-end generation.\n",
      "Setting `pad_token_id` to `eos_token_id`:50256 for open-end generation.\n",
      "Setting `pad_token_id` to `eos_token_id`:50256 for open-end generation.\n",
      "Setting `pad_token_id` to `eos_token_id`:50256 for open-end generation.\n",
      "Setting `pad_token_id` to `eos_token_id`:50256 for open-end generation.\n",
      "Setting `pad_token_id` to `eos_token_id`:50256 for open-end generation.\n",
      "Setting `pad_token_id` to `eos_token_id`:50256 for open-end generation.\n",
      "Setting `pad_token_id` to `eos_token_id`:50256 for open-end generation.\n",
      "Setting `pad_token_id` to `eos_token_id`:50256 for open-end generation.\n",
      "Setting `pad_token_id` to `eos_token_id`:50256 for open-end generation.\n",
      "Setting `pad_token_id` to `eos_token_id`:50256 for open-end generation.\n",
      "Setting `pad_token_id` to `eos_token_id`:50256 for open-end generation.\n"
     ]
    }
   ],
   "source": [
    "gpt_baseline_row = {\n",
    "  \"model_name\": GPT2_NAME,\n",
    "  \"bleu\": None,\n",
    "  \"rouge\": None,\n",
    "  \"perplexity\": None,\n",
    "  \"bert_score\": None,\n",
    "  \"execution_time_in_seconds\": None\n",
    "}\n",
    "start_time = time.time()\n",
    "gpt_baseline_row[\"bleu\"] = \"%.4f\" % calculate_bleu(current_device, gpt2_model, gpt2_tokenizer, freud_df)\n",
    "gpt_baseline_row[\"rouge\"] = \"%.4f\" % calculate_rouge_l(current_device, gpt2_model, gpt2_tokenizer, freud_df)\n",
    "gpt_baseline_row[\"perplexity\"] = \"%.4f\" % calculate_perplexity(current_device, gpt2_model, gpt2_tokenizer, freud_df)\n",
    "gpt_baseline_row[\"bert_score\"] = \"%.4f\" % calculate_bert_score(gpt2_model, gpt2_tokenizer, freud_df)\n",
    "end_time = time.time()\n",
    "gpt_baseline_row[\"execution_time_in_seconds\"] = \"%.4f\" % (end_time - start_time)\n",
    "\n",
    "baseline_df.loc[baseline_df.shape[0]] = gpt_baseline_row"
   ]
  },
  {
   "cell_type": "markdown",
   "id": "e0fa3ef4-e137-410a-a52a-4b306fd9c7a0",
   "metadata": {},
   "source": [
    "## Observation\n",
    "We can conclude that baseline `Flan-T5-Small` model is the optimal among the two. Purely from technical perspective.\n",
    "\n",
    "Both `GPT2 Small` and `Flan-T5-Small` have poor scores. Which is no surprise, as we can't assume that their pre-training involved Freud dream interpretation with the custom formulation that is present in our Freud dataset.\n",
    "\n",
    "That being said, `Flan-T5-Small` significantly outperforms its counterpart in terms of execution speed."
   ]
  },
  {
   "cell_type": "code",
   "execution_count": 18,
   "id": "3bacf9c0-c5f6-4549-a626-0b2d5e5cbd07",
   "metadata": {},
   "outputs": [
    {
     "data": {
      "image/png": "[encoded data removed]",
      "text/plain": [
       "<Figure size 1200x1000 with 4 Axes>"
      ]
     },
     "metadata": {},
     "output_type": "display_data"
    }
   ],
   "source": [
    "plot_metrics(baseline_df)"
   ]
  },
  {
   "cell_type": "markdown",
   "id": "6564be6a-b444-4e7d-a790-4f3ff0d9b861",
   "metadata": {},
   "source": [
    "# Fine-tune"
   ]
  },
  {
   "cell_type": "markdown",
   "id": "026e7ddd-8cc0-437a-963b-f12c7420f2bd",
   "metadata": {},
   "source": [
    "## Flan-T5-Small"
   ]
  },
  {
   "cell_type": "code",
   "execution_count": 60,
   "id": "cc437cb2-184a-4ece-8cb6-215f55d8537a",
   "metadata": {},
   "outputs": [],
   "source": [
    "def init_t5_fine_tune_hugging_face_dataset(the_tokenizer, original_df):\n",
    "  fine_tune_df = original_df.drop(columns=[\"dream_id\", \"dreamer\"]).dropna()\n",
    "  fine_tune_df = fine_tune_df.astype(str)\n",
    "  fine_tune_data = {\n",
    "    \"input\": [INTERPRET_DREAM_QUERY_TEMPLATE % text for text in fine_tune_df[\"text_dream\"]],\n",
    "    \"target\": [\n",
    "      \" | \".join([f\"{col}: {row[col]}\" for col in fine_tune_df.columns if col != \"text_dream\"]) for _,row in fine_tune_df.iterrows()\n",
    "    ]\n",
    "  }\n",
    "  fine_tune_dataset = Dataset.from_dict(fine_tune_data)\n",
    "  fine_tune_dataset = fine_tune_dataset.train_test_split(test_size=0.2)\n",
    "  \n",
    "  def tokenize_data(example):\n",
    "    input_ids = the_tokenizer(\n",
    "      example[\"input\"],\n",
    "      padding=\"max_length\",\n",
    "      truncation=True,\n",
    "      max_length=MAX_TEXT_INPUT_LENGTH,\n",
    "      return_tensors=\"pt\"\n",
    "    )[\"input_ids\"]\n",
    "    labels = the_tokenizer(\n",
    "      example[\"target\"],\n",
    "      padding=\"max_length\",\n",
    "      truncation=True,\n",
    "      max_length=MAX_TEXT_OUTPUT_LENGTH,\n",
    "      return_tensors=\"pt\"\n",
    "    )[\"input_ids\"]\n",
    "    return {\"input_ids\": input_ids, \"labels\": labels}\n",
    "  \n",
    "  return fine_tune_dataset.map(tokenize_data, batched=True)\n",
    "\n",
    "def fine_tune_t5_model(the_model, the_tokenizer, original_df):\n",
    "  fine_tune_dataset = init_t5_fine_tune_hugging_face_dataset(the_tokenizer, original_df)\n",
    "  training_args = TrainingArguments(\n",
    "    output_dir=FLAN_T5_SMALL_FINE_TUNED_DIR,\n",
    "    per_device_train_batch_size=8,\n",
    "    per_device_eval_batch_size=8,\n",
    "    evaluation_strategy=\"epoch\",\n",
    "    save_strategy=\"epoch\",\n",
    "    num_train_epochs=1,\n",
    "    logging_dir=FLAN_T5_SMALL_FINE_TUNE_LOGS,\n",
    "    logging_steps=50,\n",
    "    save_total_limit=2,\n",
    "    load_best_model_at_end=True,\n",
    "    fp16=True if torch.cuda.is_available() else False # use mixed precision if available\n",
    "  )\n",
    "  trainer = Trainer(\n",
    "    model=the_model,\n",
    "    args=training_args,\n",
    "    train_dataset=fine_tune_dataset[\"train\"],\n",
    "    eval_dataset=fine_tune_dataset[\"test\"],\n",
    "    tokenizer=t5_tokenizer\n",
    "  )\n",
    "  trainer.train()"
   ]
  },
  {
   "cell_type": "code",
   "execution_count": 61,
   "id": "9693c099-416a-4979-9d0e-f2d3fb69572d",
   "metadata": {},
   "outputs": [
    {
     "data": {
      "application/vnd.jupyter.widget-view+json": {
       "model_id": "f6d6c65d1aea4b1a8f62c9647883236e",
       "version_major": 2,
       "version_minor": 0
      },
      "text/plain": [
       "Map:   0%|          | 0/1 [00:00<?, ? examples/s]"
      ]
     },
     "metadata": {},
     "output_type": "display_data"
    },
    {
     "data": {
      "application/vnd.jupyter.widget-view+json": {
       "model_id": "5e346bcd8219432483c9abbcc8b41041",
       "version_major": 2,
       "version_minor": 0
      },
      "text/plain": [
       "Map:   0%|          | 0/1 [00:00<?, ? examples/s]"
      ]
     },
     "metadata": {},
     "output_type": "display_data"
    },
    {
     "name": "stderr",
     "output_type": "stream",
     "text": [
      "/home/maxim/.local/lib/python3.10/site-packages/transformers/training_args.py:1575: FutureWarning: `evaluation_strategy` is deprecated and will be removed in version 4.46 of 🤗 Transformers. Use `eval_strategy` instead\n",
      "  warnings.warn(\n",
      "/tmp/ipykernel_1112/3063538341.py:47: FutureWarning: `tokenizer` is deprecated and will be removed in version 5.0.0 for `Trainer.__init__`. Use `processing_class` instead.\n",
      "  trainer = Trainer(\n"
     ]
    },
    {
     "data": {
      "text/html": [
       "\n",
       "    <div>\n",
       "      \n",
       "      <progress value='1' max='1' style='width:300px; height:20px; vertical-align: middle;'></progress>\n",
       "      [1/1 00:26, Epoch 1/1]\n",
       "    </div>\n",
       "    <table border=\"1\" class=\"dataframe\">\n",
       "  <thead>\n",
       " <tr style=\"text-align: left;\">\n",
       "      <th>Epoch</th>\n",
       "      <th>Training Loss</th>\n",
       "      <th>Validation Loss</th>\n",
       "    </tr>\n",
       "  </thead>\n",
       "  <tbody>\n",
       "    <tr>\n",
       "      <td>1</td>\n",
       "      <td>No log</td>\n",
       "      <td>28.263880</td>\n",
       "    </tr>\n",
       "  </tbody>\n",
       "</table><p>"
      ],
      "text/plain": [
       "<IPython.core.display.HTML object>"
      ]
     },
     "metadata": {},
     "output_type": "display_data"
    },
    {
     "name": "stderr",
     "output_type": "stream",
     "text": [
      "There were missing keys in the checkpoint model loaded: ['encoder.embed_tokens.weight', 'decoder.embed_tokens.weight'].\n"
     ]
    }
   ],
   "source": [
    "if not os.listdir(FLAN_T5_SMALL_FINE_TUNED_DIR):\n",
    "  fine_tune_t5_model(t5_model, t5_tokenizer, dryad_df)\n",
    "  t5_model.save_pretrained(FLAN_T5_SMALL_FINE_TUNED_DIR)\n",
    "  t5_tokenizer.save_pretrained(FLAN_T5_SMALL_FINE_TUNED_DIR)\n",
    "\n",
    "t5_tokenizer = T5Tokenizer.from_pretrained(FLAN_T5_SMALL_FINE_TUNED_DIR)\n",
    "t5_model = T5ForConditionalGeneration.from_pretrained(FLAN_T5_SMALL_FINE_TUNED_DIR)"
   ]
  },
  {
   "cell_type": "markdown",
   "id": "8f07c007-6ac1-4281-be4d-8c5c41d64f13",
   "metadata": {},
   "source": [
    "## GPT2-Small"
   ]
  },
  {
   "cell_type": "code",
   "execution_count": null,
   "id": "3ecd6081-9162-431c-bf32-307b8de5ae07",
   "metadata": {},
   "outputs": [],
   "source": [
    "pass"
   ]
  },
  {
   "cell_type": "markdown",
   "id": "5aee9e5b-8cbc-45cf-be1e-ccf8c13876d4",
   "metadata": {},
   "source": [
    "# Fine tuned performance"
   ]
  },
  {
   "cell_type": "code",
   "execution_count": 52,
   "id": "1cc5ab86-0209-413b-b320-62882027de21",
   "metadata": {},
   "outputs": [],
   "source": [
    "fine_tuned_df = pd.DataFrame(columns=[\"model_name\", \"bleu\", \"rouge\", \"perplexity\", \"bert_score\", \"execution_time_in_seconds\"])"
   ]
  },
  {
   "cell_type": "markdown",
   "id": "bf0cd9e1-40b7-4a95-85ac-8c8d492a8b84",
   "metadata": {},
   "source": [
    "# Flan-T5-Small"
   ]
  },
  {
   "cell_type": "code",
   "execution_count": 53,
   "id": "5fab9d87-336a-4d8f-bfad-4e9155a7eedc",
   "metadata": {},
   "outputs": [
    {
     "name": "stdout",
     "output_type": "stream",
     "text": [
      "{'model_name': 'google/flan-t5-small', 'bleu': '0.0049', 'rouge': '0.1077', 'perplexity': '0.5000', 'bert_score': '0.5423', 'execution_time_in_seconds': '28.9920'}\n"
     ]
    }
   ],
   "source": [
    "t5_fine_tuned_row = {\n",
    "  \"model_name\": FLAN_T5_SMALL_NAME,\n",
    "  \"bleu\": None,\n",
    "  \"rouge\": None,\n",
    "  \"perplexity\": None,\n",
    "  \"bert_score\": None,\n",
    "  \"execution_time_in_seconds\": None\n",
    "}\n",
    "start_time = time.time()\n",
    "t5_fine_tuned_row[\"bleu\"] = \"%.4f\" % calculate_bleu(current_device, t5_model, t5_tokenizer, freud_df)\n",
    "t5_fine_tuned_row[\"rouge\"] = \"%.4f\" % calculate_rouge_l(current_device, t5_model, t5_tokenizer, freud_df)\n",
    "t5_fine_tuned_row[\"perplexity\"] = \"%.4f\" % calculate_perplexity(current_device, t5_model, t5_tokenizer, freud_df)\n",
    "t5_fine_tuned_row[\"bert_score\"] = \"%.4f\" % calculate_bert_score(t5_model, t5_tokenizer, freud_df)\n",
    "end_time = time.time()\n",
    "t5_fine_tuned_row[\"execution_time_in_seconds\"] = \"%.4f\" % (end_time - start_time)\n",
    "print(t5_fine_tuned_row) #TODO: remove\n",
    "fine_tuned_df.loc[fine_tuned_df.shape[0]] = t5_fine_tuned_row"
   ]
  }
 ],
 "metadata": {
  "kernelspec": {
   "display_name": "Python 3 (ipykernel)",
   "language": "python",
   "name": "python3"
  },
  "language_info": {
   "codemirror_mode": {
    "name": "ipython",
    "version": 3
   },
   "file_extension": ".py",
   "mimetype": "text/x-python",
   "name": "python",
   "nbconvert_exporter": "python",
   "pygments_lexer": "ipython3",
   "version": "3.10.12"
  }
 },
 "nbformat": 4,
 "nbformat_minor": 5
}
